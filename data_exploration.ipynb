{
 "metadata": {
  "language_info": {
   "codemirror_mode": {
    "name": "ipython",
    "version": 3
   },
   "file_extension": ".py",
   "mimetype": "text/x-python",
   "name": "python",
   "nbconvert_exporter": "python",
   "pygments_lexer": "ipython3",
   "version": "3.7.7-final"
  },
  "orig_nbformat": 2,
  "kernelspec": {
   "name": "python_defaultSpec_1600460061505",
   "display_name": "Python 3.7.7 64-bit"
  }
 },
 "nbformat": 4,
 "nbformat_minor": 2,
 "cells": [
  {
   "cell_type": "code",
   "execution_count": 52,
   "metadata": {},
   "outputs": [],
   "source": [
    "import pandas as pd\n",
    "import numpy as np\n",
    "from sklearn.model_selection import train_test_split\n",
    "from sklearn.ensemble import RandomForestClassifier\n",
    "from sklearn.metrics import roc_auc_score\n",
    "from sklearn import metrics\n",
    "from sklearn.metrics import classification_report, confusion_matrix, accuracy_score\n",
    "from sklearn.externals import joblib\n",
    "import pickle"
   ]
  },
  {
   "cell_type": "code",
   "execution_count": 53,
   "metadata": {},
   "outputs": [],
   "source": [
    "features = pd.read_csv('Data/train.csv')\n",
    "test = pd.read_csv('Data/test.csv')"
   ]
  },
  {
   "cell_type": "code",
   "execution_count": 54,
   "metadata": {},
   "outputs": [],
   "source": [
    "labels = features['Response']\n",
    "features.drop(['Response'], axis=1, inplace=True)"
   ]
  },
  {
   "cell_type": "code",
   "execution_count": 55,
   "metadata": {},
   "outputs": [],
   "source": [
    "def turn_to_bin(x):\n",
    "    if x == 'Yes':\n",
    "        return 1\n",
    "    else:\n",
    "        return 0\n",
    "\n",
    "def data_preprocessing(df):\n",
    "    df_sex = pd.get_dummies(df['Gender'], prefix='Sex')\n",
    "    df_Reg_Code = pd.get_dummies(df['Region_Code'], prefix='Reg_Code')\n",
    "    df_Vic_Age = pd.get_dummies(df['Vehicle_Age'], prefix='Vic_Age')\n",
    "    df_Sale_Channel = pd.get_dummies(df['Policy_Sales_Channel'], prefix='Sale_Channel')\n",
    "\n",
    "    df = pd.concat([df,df_sex, df_Reg_Code, df_Vic_Age, df_Sale_Channel], axis=1)\n",
    "\n",
    "    df.drop(['id', 'Gender', 'Region_Code', 'Vehicle_Age', 'Policy_Sales_Channel'], axis=1, inplace=True)\n",
    "\n",
    "    df['Vehicle_Damage'] = df['Vehicle_Damage'].apply(turn_to_bin)\n",
    "\n",
    "    return df\n",
    "\n",
    "features = data_preprocessing(features)\n",
    "test = data_preprocessing(test)\n"
   ]
  },
  {
   "cell_type": "code",
   "execution_count": 56,
   "metadata": {},
   "outputs": [
    {
     "output_type": "execute_result",
     "data": {
      "text/plain": "   Age  Driving_License  Previously_Insured  Vehicle_Damage  Annual_Premium  \\\n0   44                1                   0               1         40454.0   \n1   76                1                   0               0         33536.0   \n2   47                1                   0               1         38294.0   \n3   21                1                   1               0         28619.0   \n4   29                1                   1               0         27496.0   \n\n   Vintage  Sex_Female  Sex_Male  Reg_Code_0.0  Reg_Code_1.0  ...  \\\n0      217           0         1             0             0  ...   \n1      183           0         1             0             0  ...   \n2       27           0         1             0             0  ...   \n3      203           0         1             0             0  ...   \n4       39           1         0             0             0  ...   \n\n   Sale_Channel_152.0  Sale_Channel_153.0  Sale_Channel_154.0  \\\n0                   0                   0                   0   \n1                   0                   0                   0   \n2                   0                   0                   0   \n3                   1                   0                   0   \n4                   1                   0                   0   \n\n   Sale_Channel_155.0  Sale_Channel_156.0  Sale_Channel_157.0  \\\n0                   0                   0                   0   \n1                   0                   0                   0   \n2                   0                   0                   0   \n3                   0                   0                   0   \n4                   0                   0                   0   \n\n   Sale_Channel_158.0  Sale_Channel_159.0  Sale_Channel_160.0  \\\n0                   0                   0                   0   \n1                   0                   0                   0   \n2                   0                   0                   0   \n3                   0                   0                   0   \n4                   0                   0                   0   \n\n   Sale_Channel_163.0  \n0                   0  \n1                   0  \n2                   0  \n3                   0  \n4                   0  \n\n[5 rows x 219 columns]",
      "text/html": "<div>\n<style scoped>\n    .dataframe tbody tr th:only-of-type {\n        vertical-align: middle;\n    }\n\n    .dataframe tbody tr th {\n        vertical-align: top;\n    }\n\n    .dataframe thead th {\n        text-align: right;\n    }\n</style>\n<table border=\"1\" class=\"dataframe\">\n  <thead>\n    <tr style=\"text-align: right;\">\n      <th></th>\n      <th>Age</th>\n      <th>Driving_License</th>\n      <th>Previously_Insured</th>\n      <th>Vehicle_Damage</th>\n      <th>Annual_Premium</th>\n      <th>Vintage</th>\n      <th>Sex_Female</th>\n      <th>Sex_Male</th>\n      <th>Reg_Code_0.0</th>\n      <th>Reg_Code_1.0</th>\n      <th>...</th>\n      <th>Sale_Channel_152.0</th>\n      <th>Sale_Channel_153.0</th>\n      <th>Sale_Channel_154.0</th>\n      <th>Sale_Channel_155.0</th>\n      <th>Sale_Channel_156.0</th>\n      <th>Sale_Channel_157.0</th>\n      <th>Sale_Channel_158.0</th>\n      <th>Sale_Channel_159.0</th>\n      <th>Sale_Channel_160.0</th>\n      <th>Sale_Channel_163.0</th>\n    </tr>\n  </thead>\n  <tbody>\n    <tr>\n      <th>0</th>\n      <td>44</td>\n      <td>1</td>\n      <td>0</td>\n      <td>1</td>\n      <td>40454.0</td>\n      <td>217</td>\n      <td>0</td>\n      <td>1</td>\n      <td>0</td>\n      <td>0</td>\n      <td>...</td>\n      <td>0</td>\n      <td>0</td>\n      <td>0</td>\n      <td>0</td>\n      <td>0</td>\n      <td>0</td>\n      <td>0</td>\n      <td>0</td>\n      <td>0</td>\n      <td>0</td>\n    </tr>\n    <tr>\n      <th>1</th>\n      <td>76</td>\n      <td>1</td>\n      <td>0</td>\n      <td>0</td>\n      <td>33536.0</td>\n      <td>183</td>\n      <td>0</td>\n      <td>1</td>\n      <td>0</td>\n      <td>0</td>\n      <td>...</td>\n      <td>0</td>\n      <td>0</td>\n      <td>0</td>\n      <td>0</td>\n      <td>0</td>\n      <td>0</td>\n      <td>0</td>\n      <td>0</td>\n      <td>0</td>\n      <td>0</td>\n    </tr>\n    <tr>\n      <th>2</th>\n      <td>47</td>\n      <td>1</td>\n      <td>0</td>\n      <td>1</td>\n      <td>38294.0</td>\n      <td>27</td>\n      <td>0</td>\n      <td>1</td>\n      <td>0</td>\n      <td>0</td>\n      <td>...</td>\n      <td>0</td>\n      <td>0</td>\n      <td>0</td>\n      <td>0</td>\n      <td>0</td>\n      <td>0</td>\n      <td>0</td>\n      <td>0</td>\n      <td>0</td>\n      <td>0</td>\n    </tr>\n    <tr>\n      <th>3</th>\n      <td>21</td>\n      <td>1</td>\n      <td>1</td>\n      <td>0</td>\n      <td>28619.0</td>\n      <td>203</td>\n      <td>0</td>\n      <td>1</td>\n      <td>0</td>\n      <td>0</td>\n      <td>...</td>\n      <td>1</td>\n      <td>0</td>\n      <td>0</td>\n      <td>0</td>\n      <td>0</td>\n      <td>0</td>\n      <td>0</td>\n      <td>0</td>\n      <td>0</td>\n      <td>0</td>\n    </tr>\n    <tr>\n      <th>4</th>\n      <td>29</td>\n      <td>1</td>\n      <td>1</td>\n      <td>0</td>\n      <td>27496.0</td>\n      <td>39</td>\n      <td>1</td>\n      <td>0</td>\n      <td>0</td>\n      <td>0</td>\n      <td>...</td>\n      <td>1</td>\n      <td>0</td>\n      <td>0</td>\n      <td>0</td>\n      <td>0</td>\n      <td>0</td>\n      <td>0</td>\n      <td>0</td>\n      <td>0</td>\n      <td>0</td>\n    </tr>\n  </tbody>\n</table>\n<p>5 rows × 219 columns</p>\n</div>"
     },
     "metadata": {},
     "execution_count": 56
    }
   ],
   "source": [
    "features.head()"
   ]
  },
  {
   "cell_type": "code",
   "execution_count": 57,
   "metadata": {
    "tags": []
   },
   "outputs": [
    {
     "output_type": "stream",
     "name": "stdout",
     "text": "Index(['Age', 'Driving_License', 'Previously_Insured', 'Vehicle_Damage',\n       'Annual_Premium', 'Vintage', 'Sex_Female', 'Sex_Male', 'Reg_Code_0.0',\n       'Reg_Code_1.0',\n       ...\n       'Sale_Channel_152.0', 'Sale_Channel_153.0', 'Sale_Channel_154.0',\n       'Sale_Channel_155.0', 'Sale_Channel_156.0', 'Sale_Channel_157.0',\n       'Sale_Channel_158.0', 'Sale_Channel_159.0', 'Sale_Channel_160.0',\n       'Sale_Channel_163.0'],\n      dtype='object', length=219)\n"
    }
   ],
   "source": [
    "print(features.columns)"
   ]
  },
  {
   "cell_type": "code",
   "execution_count": 58,
   "metadata": {},
   "outputs": [
    {
     "output_type": "execute_result",
     "data": {
      "text/plain": "381109"
     },
     "metadata": {},
     "execution_count": 58
    }
   ],
   "source": [
    "len(features['Age'])"
   ]
  },
  {
   "cell_type": "code",
   "execution_count": 59,
   "metadata": {},
   "outputs": [
    {
     "output_type": "execute_result",
     "data": {
      "text/plain": "381109"
     },
     "metadata": {},
     "execution_count": 59
    }
   ],
   "source": [
    "len(labels)"
   ]
  },
  {
   "cell_type": "code",
   "execution_count": 60,
   "metadata": {},
   "outputs": [
    {
     "output_type": "execute_result",
     "data": {
      "text/plain": "127037"
     },
     "metadata": {},
     "execution_count": 60
    }
   ],
   "source": [
    "len(test)"
   ]
  },
  {
   "cell_type": "code",
   "execution_count": 61,
   "metadata": {},
   "outputs": [
    {
     "output_type": "execute_result",
     "data": {
      "text/plain": "   Age  Driving_License  Previously_Insured  Vehicle_Damage  Annual_Premium  \\\n0   25                1                   1               0         35786.0   \n1   40                1                   0               1         33762.0   \n2   47                1                   0               1         40050.0   \n3   24                1                   1               1         37356.0   \n4   27                1                   1               0         59097.0   \n\n   Vintage  Sex_Female  Sex_Male  Reg_Code_0.0  Reg_Code_1.0  ...  \\\n0       53           0         1             0             0  ...   \n1      111           0         1             0             0  ...   \n2      199           0         1             0             0  ...   \n3      187           0         1             0             0  ...   \n4      297           0         1             0             0  ...   \n\n   Sale_Channel_152.0  Sale_Channel_153.0  Sale_Channel_154.0  \\\n0                   1                   0                   0   \n1                   0                   0                   0   \n2                   0                   0                   0   \n3                   1                   0                   0   \n4                   1                   0                   0   \n\n   Sale_Channel_155.0  Sale_Channel_156.0  Sale_Channel_157.0  \\\n0                   0                   0                   0   \n1                   0                   0                   0   \n2                   0                   0                   0   \n3                   0                   0                   0   \n4                   0                   0                   0   \n\n   Sale_Channel_158.0  Sale_Channel_159.0  Sale_Channel_160.0  \\\n0                   0                   0                   0   \n1                   0                   0                   0   \n2                   0                   0                   0   \n3                   0                   0                   0   \n4                   0                   0                   0   \n\n   Sale_Channel_163.0  \n0                   0  \n1                   0  \n2                   0  \n3                   0  \n4                   0  \n\n[5 rows x 209 columns]",
      "text/html": "<div>\n<style scoped>\n    .dataframe tbody tr th:only-of-type {\n        vertical-align: middle;\n    }\n\n    .dataframe tbody tr th {\n        vertical-align: top;\n    }\n\n    .dataframe thead th {\n        text-align: right;\n    }\n</style>\n<table border=\"1\" class=\"dataframe\">\n  <thead>\n    <tr style=\"text-align: right;\">\n      <th></th>\n      <th>Age</th>\n      <th>Driving_License</th>\n      <th>Previously_Insured</th>\n      <th>Vehicle_Damage</th>\n      <th>Annual_Premium</th>\n      <th>Vintage</th>\n      <th>Sex_Female</th>\n      <th>Sex_Male</th>\n      <th>Reg_Code_0.0</th>\n      <th>Reg_Code_1.0</th>\n      <th>...</th>\n      <th>Sale_Channel_152.0</th>\n      <th>Sale_Channel_153.0</th>\n      <th>Sale_Channel_154.0</th>\n      <th>Sale_Channel_155.0</th>\n      <th>Sale_Channel_156.0</th>\n      <th>Sale_Channel_157.0</th>\n      <th>Sale_Channel_158.0</th>\n      <th>Sale_Channel_159.0</th>\n      <th>Sale_Channel_160.0</th>\n      <th>Sale_Channel_163.0</th>\n    </tr>\n  </thead>\n  <tbody>\n    <tr>\n      <th>0</th>\n      <td>25</td>\n      <td>1</td>\n      <td>1</td>\n      <td>0</td>\n      <td>35786.0</td>\n      <td>53</td>\n      <td>0</td>\n      <td>1</td>\n      <td>0</td>\n      <td>0</td>\n      <td>...</td>\n      <td>1</td>\n      <td>0</td>\n      <td>0</td>\n      <td>0</td>\n      <td>0</td>\n      <td>0</td>\n      <td>0</td>\n      <td>0</td>\n      <td>0</td>\n      <td>0</td>\n    </tr>\n    <tr>\n      <th>1</th>\n      <td>40</td>\n      <td>1</td>\n      <td>0</td>\n      <td>1</td>\n      <td>33762.0</td>\n      <td>111</td>\n      <td>0</td>\n      <td>1</td>\n      <td>0</td>\n      <td>0</td>\n      <td>...</td>\n      <td>0</td>\n      <td>0</td>\n      <td>0</td>\n      <td>0</td>\n      <td>0</td>\n      <td>0</td>\n      <td>0</td>\n      <td>0</td>\n      <td>0</td>\n      <td>0</td>\n    </tr>\n    <tr>\n      <th>2</th>\n      <td>47</td>\n      <td>1</td>\n      <td>0</td>\n      <td>1</td>\n      <td>40050.0</td>\n      <td>199</td>\n      <td>0</td>\n      <td>1</td>\n      <td>0</td>\n      <td>0</td>\n      <td>...</td>\n      <td>0</td>\n      <td>0</td>\n      <td>0</td>\n      <td>0</td>\n      <td>0</td>\n      <td>0</td>\n      <td>0</td>\n      <td>0</td>\n      <td>0</td>\n      <td>0</td>\n    </tr>\n    <tr>\n      <th>3</th>\n      <td>24</td>\n      <td>1</td>\n      <td>1</td>\n      <td>1</td>\n      <td>37356.0</td>\n      <td>187</td>\n      <td>0</td>\n      <td>1</td>\n      <td>0</td>\n      <td>0</td>\n      <td>...</td>\n      <td>1</td>\n      <td>0</td>\n      <td>0</td>\n      <td>0</td>\n      <td>0</td>\n      <td>0</td>\n      <td>0</td>\n      <td>0</td>\n      <td>0</td>\n      <td>0</td>\n    </tr>\n    <tr>\n      <th>4</th>\n      <td>27</td>\n      <td>1</td>\n      <td>1</td>\n      <td>0</td>\n      <td>59097.0</td>\n      <td>297</td>\n      <td>0</td>\n      <td>1</td>\n      <td>0</td>\n      <td>0</td>\n      <td>...</td>\n      <td>1</td>\n      <td>0</td>\n      <td>0</td>\n      <td>0</td>\n      <td>0</td>\n      <td>0</td>\n      <td>0</td>\n      <td>0</td>\n      <td>0</td>\n      <td>0</td>\n    </tr>\n  </tbody>\n</table>\n<p>5 rows × 209 columns</p>\n</div>"
     },
     "metadata": {},
     "execution_count": 61
    }
   ],
   "source": [
    "test.head()"
   ]
  },
  {
   "cell_type": "code",
   "execution_count": 62,
   "metadata": {},
   "outputs": [],
   "source": [
    "X_train, X_test, y_train, y_test = train_test_split(\n",
    "    features, labels, test_size=0.33, random_state=42)\n"
   ]
  },
  {
   "cell_type": "code",
   "execution_count": 63,
   "metadata": {
    "tags": []
   },
   "outputs": [
    {
     "output_type": "stream",
     "name": "stderr",
     "text": "[Parallel(n_jobs=-1)]: Using backend ThreadingBackend with 4 concurrent workers.\n[Parallel(n_jobs=-1)]: Done  10 out of  10 | elapsed:    7.8s finished\n[Parallel(n_jobs=4)]: Using backend ThreadingBackend with 4 concurrent workers.\n[Parallel(n_jobs=4)]: Done  10 out of  10 | elapsed:    0.5s finished\n"
    }
   ],
   "source": [
    "# Create the model with 100 trees\n",
    "bin_model = RandomForestClassifier(n_estimators=10,\n",
    "                                   n_jobs=-1,\n",
    "                                   random_state=50,\n",
    "                                   max_features=3,\n",
    "                                   verbose=True)\n",
    "# Fit on training data\n",
    "bin_model.fit(X_train, y_train)\n",
    "y_pred = bin_model.predict(X_test)"
   ]
  },
  {
   "cell_type": "code",
   "execution_count": 64,
   "metadata": {
    "tags": []
   },
   "outputs": [
    {
     "output_type": "stream",
     "name": "stdout",
     "text": "[[106004   4247]\n [ 13221   2294]]\n              precision    recall  f1-score   support\n\n           0       0.89      0.96      0.92    110251\n           1       0.35      0.15      0.21     15515\n\n    accuracy                           0.86    125766\n   macro avg       0.62      0.55      0.57    125766\nweighted avg       0.82      0.86      0.84    125766\n\n0.8611071354738165\n[Parallel(n_jobs=4)]: Using backend ThreadingBackend with 4 concurrent workers.\n[Parallel(n_jobs=4)]: Done  10 out of  10 | elapsed:    0.9s finished\n[Parallel(n_jobs=4)]: Using backend ThreadingBackend with 4 concurrent workers.\n[Parallel(n_jobs=4)]: Done  10 out of  10 | elapsed:    1.0s finished\n[Parallel(n_jobs=4)]: Using backend ThreadingBackend with 4 concurrent workers.\n[Parallel(n_jobs=4)]: Done  10 out of  10 | elapsed:    0.9s finished\n[Parallel(n_jobs=4)]: Using backend ThreadingBackend with 4 concurrent workers.\nModel ROC value\n0.781959158186415\nTraining ROC value\n0.9993668641236721\n[Parallel(n_jobs=4)]: Done  10 out of  10 | elapsed:    0.5s finished\n"
    }
   ],
   "source": [
    "print(confusion_matrix(y_test, y_pred))\n",
    "print(classification_report(y_test, y_pred))\n",
    "print(accuracy_score(y_test, y_pred))\n",
    "\n",
    "train_rf_predictions = bin_model.predict(X_train)\n",
    "train_rf_probs = bin_model.predict_proba(X_train)[:, 1]\n",
    "\n",
    "# Actual class predictions\n",
    "rf_predictions = bin_model.predict(X_test)\n",
    "# Probabilities for each class\n",
    "rf_probs = bin_model.predict_proba(X_test)[:, 1]\n",
    "\n",
    "# Calculate roc auc\n",
    "roc_value = roc_auc_score(y_test, rf_probs)\n",
    "roc_value_train = roc_auc_score(y_train, train_rf_probs)\n",
    "\n",
    "print(\"Model ROC value\")\n",
    "print(roc_value)\n",
    "\n",
    "print(\"Training ROC value\")\n",
    "print(roc_value_train)"
   ]
  },
  {
   "cell_type": "code",
   "execution_count": 65,
   "metadata": {},
   "outputs": [],
   "source": [
    "importances = bin_model.feature_importances_"
   ]
  },
  {
   "cell_type": "code",
   "execution_count": 66,
   "metadata": {
    "tags": []
   },
   "outputs": [
    {
     "output_type": "stream",
     "name": "stdout",
     "text": "0.28927114054282116\n[2.06975201e-01 5.47882209e-04 7.26805226e-02 4.36759448e-02\n 2.56574865e-01 2.89271141e-01 2.39448947e-03 3.09288756e-03\n 7.01883390e-04 4.60274266e-04 6.88028372e-04 1.58476110e-03\n 7.84854743e-04 5.66986747e-04 9.47694628e-04 1.06499062e-03\n 2.25244789e-03 7.95811522e-04 7.76405857e-04 1.54058423e-03\n 7.98305836e-04 8.91464363e-04 9.69746086e-04 1.31625650e-03\n 5.15296874e-04 7.18947521e-04 1.25457762e-03 7.39279435e-04\n 6.28455387e-04 8.43298216e-04 4.91963574e-04 5.76683172e-04\n 8.66159942e-04 4.30740803e-04 7.99869251e-04 7.55872440e-04\n 4.66034459e-03 1.70347673e-03 1.43075433e-03 5.26723946e-04\n 6.36085652e-04 1.43784669e-03 4.34380568e-04 1.34053059e-03\n 1.16959532e-03 9.10039722e-04 8.72296672e-04 1.19725694e-03\n 6.88460819e-04 2.24537084e-03 2.61616057e-04 8.81753561e-04\n 2.37238064e-04 1.24497790e-03 1.90704780e-03 1.18171012e-03\n 1.07487806e-03 5.29076166e-04 1.33824573e-03 1.96254375e-04\n 2.00701750e-04 7.29328458e-03 5.88082511e-03 4.08465641e-03\n 3.75347884e-04 1.83116333e-05 6.56797720e-04 5.07188456e-04\n 2.81376974e-06 4.07675213e-04 2.89000885e-04 1.02714029e-04\n 1.88322734e-04 3.51876765e-04 2.79608999e-04 4.10857595e-04\n 2.06814606e-04 1.68320458e-04 2.07578027e-04 4.07765786e-05\n 7.36713808e-05 1.10926021e-04 3.71288481e-05 1.00572176e-04\n 1.40980827e-04 2.43710697e-04 3.16684487e-04 6.34974384e-04\n 8.27067618e-03 2.88356823e-06 4.32184804e-06 3.65572597e-04\n 5.33541537e-04 6.33481791e-04 4.44108402e-05 6.53175151e-06\n 1.59681320e-06 7.02367633e-05 8.35079666e-05 1.07015300e-04\n 2.54171940e-06 1.54467316e-05 4.08919265e-05 0.00000000e+00\n 1.61465434e-04 2.07034629e-05 1.30226284e-04 8.23896917e-05\n 8.95445396e-06 6.43286044e-05 2.89087699e-05 2.93731004e-05\n 2.27819092e-06 9.45637003e-06 3.14922401e-04 6.60594625e-05\n 7.41577939e-05 4.10564380e-04 4.41468101e-05 7.20789708e-06\n 7.05993880e-06 1.56100755e-04 2.33727481e-04 2.50147911e-04\n 2.13155725e-05 1.57904254e-05 5.75212555e-05 3.17867021e-05\n 2.07465301e-05 2.22493617e-06 4.34758406e-07 2.76619821e-06\n 1.40428907e-06 5.88289435e-06 1.10665226e-05 2.01988733e-08\n 4.41423004e-06 3.86964198e-06 2.04385644e-05 1.04305851e-05\n 6.39562772e-05 6.28129524e-05 1.66206629e-06 3.75567210e-06\n 0.00000000e+00 4.35776327e-05 1.58341474e-05 2.82292102e-05\n 2.04923818e-05 5.67465198e-05 1.26834398e-04 4.21390167e-05\n 2.99377344e-05 7.45364464e-05 7.93137965e-06 8.52960398e-06\n 2.01210119e-05 1.94010921e-05 1.91137610e-06 5.40663333e-05\n 2.61593752e-05 1.83244318e-06 6.87166931e-05 4.04644325e-06\n 5.04614611e-08 5.54582662e-05 4.41210845e-05 1.01482196e-05\n 1.44326452e-04 3.17197964e-05 4.06627956e-05 2.37143730e-06\n 4.54499227e-05 4.44019765e-05 1.78617410e-06 1.63816560e-04\n 3.32014214e-07 7.15067008e-06 4.80783691e-05 2.08375889e-04\n 1.95803140e-04 1.60312938e-03 2.06457053e-05 7.27229790e-03\n 3.02643825e-04 2.18579737e-06 6.28089174e-05 8.06077228e-05\n 3.65021023e-05 4.00520418e-06 8.19943140e-05 3.16228524e-05\n 5.92266250e-05 3.64587572e-06 8.41511817e-05 1.50214574e-04\n 2.08973361e-06 8.04529373e-05 9.33930095e-05 5.54436340e-05\n 0.00000000e+00 2.12721644e-10 9.46799138e-05 1.18820335e-05\n 1.85266383e-04 5.39659826e-05 0.00000000e+00 3.71203651e-04\n 4.91369022e-04 8.21790833e-03 2.47954465e-04 2.58245313e-03\n 1.36486564e-03 2.64085570e-03 2.76922373e-03 4.03315951e-04\n 2.01889734e-05 2.43574295e-03 2.34717250e-03]\n"
    }
   ],
   "source": [
    "print(importances.max())\n",
    "print(importances)"
   ]
  },
  {
   "cell_type": "code",
   "execution_count": 67,
   "metadata": {},
   "outputs": [
    {
     "output_type": "execute_result",
     "data": {
      "text/plain": "'Annual_Premium'"
     },
     "metadata": {},
     "execution_count": 67
    }
   ],
   "source": [
    "features.columns[4]"
   ]
  },
  {
   "cell_type": "code",
   "execution_count": 68,
   "metadata": {},
   "outputs": [
    {
     "output_type": "execute_result",
     "data": {
      "text/plain": "'Vintage'"
     },
     "metadata": {},
     "execution_count": 68
    }
   ],
   "source": [
    "features.columns[5]"
   ]
  },
  {
   "cell_type": "code",
   "execution_count": null,
   "metadata": {},
   "outputs": [],
   "source": []
  }
 ]
}